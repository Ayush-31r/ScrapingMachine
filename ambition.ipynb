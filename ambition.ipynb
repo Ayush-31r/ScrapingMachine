{
 "cells": [
  {
   "cell_type": "code",
   "execution_count": 19,
   "id": "7d72ef67",
   "metadata": {},
   "outputs": [
    {
     "name": "stdout",
     "output_type": "stream",
     "text": [
      "1\n",
      "2\n",
      "3\n",
      "4\n",
      "5\n",
      "6\n",
      "7\n",
      "8\n",
      "9\n",
      "10\n"
     ]
    }
   ],
   "source": [
    "from selenium import webdriver\n",
    "from selenium.webdriver.chrome.service import Service\n",
    "from selenium.webdriver.chrome.options import Options\n",
    "from webdriver_manager.chrome import ChromeDriverManager\n",
    "from selenium.webdriver.common.by import By\n",
    "from selenium.webdriver.support.ui import WebDriverWait\n",
    "from selenium.webdriver.support import expected_conditions as EC\n",
    "from bs4 import BeautifulSoup\n",
    "import pandas as pd\n",
    "import time\n",
    "\n",
    "chrome_options = Options()\n",
    "chrome_options.add_argument(\"--start-maximized\")\n",
    "# chrome_options.add_argument(\"--headless\")\n",
    "service = Service(ChromeDriverManager().install())\n",
    "driver = webdriver.Chrome(service=service, options=chrome_options)\n",
    "data=[]\n",
    "pages = range(0,10)\n",
    "URL = \"https://www.ambitionbox.com/list-of-companies?page=1\"\n",
    "driver.get(URL)\n",
    "next = False\n",
    "nom = 1\n",
    "# wait for company cards\n",
    "for page in pages:\n",
    "    if next:\n",
    "        next_button = WebDriverWait(driver, 10).until(\n",
    "            EC.element_to_be_clickable((By.CSS_SELECTOR, \"a.page-nav-btn.router-link-active\"))\n",
    "        )\n",
    "        next_button.click()\n",
    "\n",
    "    WebDriverWait(driver, 15).until(\n",
    "        EC.presence_of_all_elements_located((By.CSS_SELECTOR, \"div.companyCardWrapper\"))\n",
    "    )\n",
    "    # time.sleep(2)\n",
    "    html = driver.page_source\n",
    "    soup = BeautifulSoup(html, \"html.parser\")\n",
    "    for card in soup.select(\"div.companyCardWrapper\"):\n",
    "    # Company short name\n",
    "        name_tag = card.select_one(\"h2.companyCardWrapper__companyName\")\n",
    "        name = name_tag.get_text(strip=True) if name_tag else None\n",
    "        \n",
    "        # Full name\n",
    "        full_name = card.find(\"meta\", {\"itemprop\": \"alternateName\"})\n",
    "        full_name = full_name[\"content\"] if full_name else None\n",
    "        \n",
    "        # Rating\n",
    "        rating_tag = card.select_one(\"div.rating_text\")\n",
    "        rating = rating_tag.get_text(strip=True) if rating_tag else None\n",
    "        \n",
    "        # Reviews (ActionWrapper with title 'Reviews')\n",
    "        reviews_tag = card.find(\"span\", string=\"Reviews\")\n",
    "        reviews = reviews_tag.find_previous(\"span\").get_text(strip=True) if reviews_tag else None\n",
    "        \n",
    "        # Jobs\n",
    "        jobs_tag = card.find(\"span\", string=\"Jobs\")\n",
    "        jobs = jobs_tag.find_previous(\"span\").get_text(strip=True) if jobs_tag else None\n",
    "        \n",
    "        data.append({\n",
    "            \"Company\": name,\n",
    "            \"Full Name\": full_name,\n",
    "            \"Rating\": rating,\n",
    "            \"Reviews\": reviews,\n",
    "            \"Jobs\": jobs\n",
    "        })\n",
    "    print(nom)\n",
    "    nom = nom + 1\n",
    "    next = True\n",
    "df = pd.DataFrame(data)\n",
    "\n",
    "\n",
    "driver.quit()\n"
   ]
  },
  {
   "cell_type": "code",
   "execution_count": 22,
   "id": "763ec61d",
   "metadata": {},
   "outputs": [
    {
     "name": "stdout",
     "output_type": "stream",
     "text": [
      "<class 'pandas.core.frame.DataFrame'>\n",
      "RangeIndex: 200 entries, 0 to 199\n",
      "Data columns (total 5 columns):\n",
      " #   Column     Non-Null Count  Dtype \n",
      "---  ------     --------------  ----- \n",
      " 0   Company    200 non-null    object\n",
      " 1   Full Name  200 non-null    object\n",
      " 2   Rating     200 non-null    object\n",
      " 3   Reviews    200 non-null    object\n",
      " 4   Jobs       200 non-null    object\n",
      "dtypes: object(5)\n",
      "memory usage: 7.9+ KB\n"
     ]
    }
   ],
   "source": [
    "df.info()"
   ]
  },
  {
   "cell_type": "code",
   "execution_count": null,
   "id": "c2181131",
   "metadata": {},
   "outputs": [],
   "source": [
    "\n"
   ]
  }
 ],
 "metadata": {
  "kernelspec": {
   "display_name": "venv",
   "language": "python",
   "name": "python3"
  },
  "language_info": {
   "codemirror_mode": {
    "name": "ipython",
    "version": 3
   },
   "file_extension": ".py",
   "mimetype": "text/x-python",
   "name": "python",
   "nbconvert_exporter": "python",
   "pygments_lexer": "ipython3",
   "version": "3.12.2"
  }
 },
 "nbformat": 4,
 "nbformat_minor": 5
}
