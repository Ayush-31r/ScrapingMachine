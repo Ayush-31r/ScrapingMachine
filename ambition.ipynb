{
 "cells": [
  {
   "cell_type": "code",
   "execution_count": 21,
   "id": "7d72ef67",
   "metadata": {},
   "outputs": [
    {
     "ename": "TimeoutException",
     "evalue": "Message: \nStacktrace:\n\tGetHandleVerifier [0x0xc90c13+66051]\n\tGetHandleVerifier [0x0xc90c54+66116]\n\t(No symbol) [0x0xa6db33]\n\t(No symbol) [0x0xab78a8]\n\t(No symbol) [0x0xab7c4b]\n\t(No symbol) [0x0xafe0a2]\n\t(No symbol) [0x0xad9fd4]\n\t(No symbol) [0x0xafb7f1]\n\t(No symbol) [0x0xad9d86]\n\t(No symbol) [0x0xaab53e]\n\t(No symbol) [0x0xaac414]\n\tGetHandleVerifier [0x0xed8a13+2457603]\n\tGetHandleVerifier [0x0xed39d2+2437058]\n\tGetHandleVerifier [0x0xcb97f2+232930]\n\tGetHandleVerifier [0x0xca9a18+167944]\n\tGetHandleVerifier [0x0xcb092d+196381]\n\tGetHandleVerifier [0x0xc98ee8+99544]\n\tGetHandleVerifier [0x0xc99082+99954]\n\tGetHandleVerifier [0x0xc8322a+10266]\n\tBaseThreadInitThunk [0x0x74e25d49+25]\n\tRtlInitializeExceptionChain [0x0x773cd2fb+107]\n\tRtlGetAppContainerNamedObjectPath [0x0x773cd281+561]\n",
     "output_type": "error",
     "traceback": [
      "\u001b[31m---------------------------------------------------------------------------\u001b[39m",
      "\u001b[31mTimeoutException\u001b[39m                          Traceback (most recent call last)",
      "\u001b[36mCell\u001b[39m\u001b[36m \u001b[39m\u001b[32mIn[21]\u001b[39m\u001b[32m, line 24\u001b[39m\n\u001b[32m     21\u001b[39m     driver.get(URL)\n\u001b[32m     23\u001b[39m \u001b[38;5;66;03m# wait for company cards\u001b[39;00m\n\u001b[32m---> \u001b[39m\u001b[32m24\u001b[39m     next_button = \u001b[43mWebDriverWait\u001b[49m\u001b[43m(\u001b[49m\u001b[43mdriver\u001b[49m\u001b[43m,\u001b[49m\u001b[43m \u001b[49m\u001b[32;43m10\u001b[39;49m\u001b[43m)\u001b[49m\u001b[43m.\u001b[49m\u001b[43muntil\u001b[49m\u001b[43m(\u001b[49m\n\u001b[32m     25\u001b[39m \u001b[43m        \u001b[49m\u001b[43mEC\u001b[49m\u001b[43m.\u001b[49m\u001b[43melement_to_be_clickable\u001b[49m\u001b[43m(\u001b[49m\u001b[43m(\u001b[49m\u001b[43mBy\u001b[49m\u001b[43m.\u001b[49m\u001b[43mCSS_SELECTOR\u001b[49m\u001b[43m,\u001b[49m\u001b[43m \u001b[49m\u001b[33;43m\"\u001b[39;49m\u001b[33;43ma.pagination__next\u001b[39;49m\u001b[33;43m\"\u001b[39;49m\u001b[43m)\u001b[49m\u001b[43m)\u001b[49m\n\u001b[32m     26\u001b[39m \u001b[43m    \u001b[49m\u001b[43m)\u001b[49m\n\u001b[32m     27\u001b[39m     next_button.click()\n\u001b[32m     29\u001b[39m     \u001b[38;5;66;03m# then wait for company cards to appear\u001b[39;00m\n",
      "\u001b[36mFile \u001b[39m\u001b[32mc:\\Users\\ayush\\OneDrive\\Desktop\\Evrything\\Workspace\\Pandas\\venv\\Lib\\site-packages\\selenium\\webdriver\\support\\wait.py:138\u001b[39m, in \u001b[36mWebDriverWait.until\u001b[39m\u001b[34m(self, method, message)\u001b[39m\n\u001b[32m    136\u001b[39m         \u001b[38;5;28;01mbreak\u001b[39;00m\n\u001b[32m    137\u001b[39m     time.sleep(\u001b[38;5;28mself\u001b[39m._poll)\n\u001b[32m--> \u001b[39m\u001b[32m138\u001b[39m \u001b[38;5;28;01mraise\u001b[39;00m TimeoutException(message, screen, stacktrace)\n",
      "\u001b[31mTimeoutException\u001b[39m: Message: \nStacktrace:\n\tGetHandleVerifier [0x0xc90c13+66051]\n\tGetHandleVerifier [0x0xc90c54+66116]\n\t(No symbol) [0x0xa6db33]\n\t(No symbol) [0x0xab78a8]\n\t(No symbol) [0x0xab7c4b]\n\t(No symbol) [0x0xafe0a2]\n\t(No symbol) [0x0xad9fd4]\n\t(No symbol) [0x0xafb7f1]\n\t(No symbol) [0x0xad9d86]\n\t(No symbol) [0x0xaab53e]\n\t(No symbol) [0x0xaac414]\n\tGetHandleVerifier [0x0xed8a13+2457603]\n\tGetHandleVerifier [0x0xed39d2+2437058]\n\tGetHandleVerifier [0x0xcb97f2+232930]\n\tGetHandleVerifier [0x0xca9a18+167944]\n\tGetHandleVerifier [0x0xcb092d+196381]\n\tGetHandleVerifier [0x0xc98ee8+99544]\n\tGetHandleVerifier [0x0xc99082+99954]\n\tGetHandleVerifier [0x0xc8322a+10266]\n\tBaseThreadInitThunk [0x0x74e25d49+25]\n\tRtlInitializeExceptionChain [0x0x773cd2fb+107]\n\tRtlGetAppContainerNamedObjectPath [0x0x773cd281+561]\n"
     ]
    }
   ],
   "source": [
    "from selenium import webdriver\n",
    "from selenium.webdriver.chrome.service import Service\n",
    "from selenium.webdriver.chrome.options import Options\n",
    "from webdriver_manager.chrome import ChromeDriverManager\n",
    "from selenium.webdriver.common.by import By\n",
    "from selenium.webdriver.support.ui import WebDriverWait\n",
    "from selenium.webdriver.support import expected_conditions as EC\n",
    "from bs4 import BeautifulSoup\n",
    "import pandas as pd\n",
    "import time\n",
    "\n",
    "chrome_options = Options()\n",
    "chrome_options.add_argument(\"--start-maximized\")\n",
    "# chrome_options.add_argument(\"--headless\")\n",
    "service = Service(ChromeDriverManager().install())\n",
    "driver = webdriver.Chrome(service=service, options=chrome_options)\n",
    "PAGES = range(1,4)\n",
    "data=[]\n",
    "for PAGE in PAGES:\n",
    "    URL = f\"https://www.ambitionbox.com/list-of-companies?page={PAGE}\"\n",
    "    driver.get(URL)\n",
    "\n",
    "# wait for company cards\n",
    "    next_button = WebDriverWait(driver, 10).until(\n",
    "        EC.element_to_be_clickable((By.CSS_SELECTOR, \"a.pagination__next\"))\n",
    "    )\n",
    "    next_button.click()\n",
    "\n",
    "    # then wait for company cards to appear\n",
    "    WebDriverWait(driver, 15).until(\n",
    "        EC.presence_of_all_elements_located((By.CSS_SELECTOR, \"div.companyCardWrapper\"))\n",
    "    )\n",
    "    time.sleep(2)\n",
    "    html = driver.page_source\n",
    "    soup = BeautifulSoup(html, \"html.parser\")\n",
    "    for card in soup.select(\"div.companyCardWrapper\"):\n",
    "    # Company short name\n",
    "        name_tag = card.select_one(\"h2.companyCardWrapper__companyName\")\n",
    "        name = name_tag.get_text(strip=True) if name_tag else None\n",
    "        \n",
    "        # Full name\n",
    "        full_name = card.find(\"meta\", {\"itemprop\": \"alternateName\"})\n",
    "        full_name = full_name[\"content\"] if full_name else None\n",
    "        \n",
    "        # Rating\n",
    "        rating_tag = card.select_one(\"div.rating_text\")\n",
    "        rating = rating_tag.get_text(strip=True) if rating_tag else None\n",
    "        \n",
    "        # Reviews (ActionWrapper with title 'Reviews')\n",
    "        reviews_tag = card.find(\"span\", string=\"Reviews\")\n",
    "        reviews = reviews_tag.find_previous(\"span\").get_text(strip=True) if reviews_tag else None\n",
    "        \n",
    "        # Jobs\n",
    "        jobs_tag = card.find(\"span\", string=\"Jobs\")\n",
    "        jobs = jobs_tag.find_previous(\"span\").get_text(strip=True) if jobs_tag else None\n",
    "        \n",
    "        data.append({\n",
    "            \"Company\": name,\n",
    "            \"Full Name\": full_name,\n",
    "            \"Rating\": rating,\n",
    "            \"Reviews\": reviews,\n",
    "            \"Jobs\": jobs\n",
    "        })\n",
    "\n",
    "df = pd.DataFrame(data)\n",
    "\n",
    "\n",
    "\n",
    "driver.quit()\n"
   ]
  },
  {
   "cell_type": "code",
   "execution_count": 14,
   "id": "c2181131",
   "metadata": {},
   "outputs": [
    {
     "data": {
      "text/plain": [
       "(20, 5)"
      ]
     },
     "execution_count": 14,
     "metadata": {},
     "output_type": "execute_result"
    }
   ],
   "source": [
    "df.shape"
   ]
  },
  {
   "cell_type": "code",
   "execution_count": null,
   "id": "d2900559",
   "metadata": {},
   "outputs": [],
   "source": []
  }
 ],
 "metadata": {
  "kernelspec": {
   "display_name": "venv",
   "language": "python",
   "name": "python3"
  },
  "language_info": {
   "codemirror_mode": {
    "name": "ipython",
    "version": 3
   },
   "file_extension": ".py",
   "mimetype": "text/x-python",
   "name": "python",
   "nbconvert_exporter": "python",
   "pygments_lexer": "ipython3",
   "version": "3.12.2"
  }
 },
 "nbformat": 4,
 "nbformat_minor": 5
}
